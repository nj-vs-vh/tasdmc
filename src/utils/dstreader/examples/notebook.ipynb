{
 "cells": [
  {
   "cell_type": "code",
   "execution_count": 1,
   "id": "incredible-mapping",
   "metadata": {},
   "outputs": [],
   "source": [
    "from dstreader import DstFile"
   ]
  },
  {
   "cell_type": "code",
   "execution_count": 2,
   "id": "speaking-performer",
   "metadata": {},
   "outputs": [],
   "source": [
    "dst = DstFile(\"example.dst.gz\")\n",
    "dst.open()\n",
    "events_iter = dst.events()"
   ]
  },
  {
   "cell_type": "code",
   "execution_count": 3,
   "id": "b716354b",
   "metadata": {},
   "outputs": [
    {
     "data": {
      "text/plain": [
       "['rusdmc', 'rusdraw', 'bsdinfo']"
      ]
     },
     "execution_count": 3,
     "metadata": {},
     "output_type": "execute_result"
    }
   ],
   "source": [
    "next(events_iter)"
   ]
  },
  {
   "cell_type": "code",
   "execution_count": 4,
   "id": "ae7a4221",
   "metadata": {},
   "outputs": [
    {
     "name": "stdout",
     "output_type": "stream",
     "text": [
      "rusdmc bank, wrapping <dstreader.dstreader_core.rusdmc_dst_common; proxy of <Swig Object of type 'rusdmc_dst_common *' at 0x7fddb00cb660> >\n",
      "\n",
      "integer4 event_num;\t /* event number */\n",
      "integer4 parttype;     /* Corsika particle code [proton=14, iron=5626,\n",
      "for others, consult Corsika manual] */\n",
      "integer4 corecounter;  /* counter closest to core */\n",
      "integer4 tc;           /* clock count corresponding to shower front\n",
      "passing through core position*/\n",
      "real4 energy;          /* total energy of primary particle [EeV] */\n",
      "real4 height;          /* height of first interation [cm] */\n",
      "real4 theta;           /* zenith angle [rad] */\n",
      "real4 phi;             /* azimuthal angle (N of E) [rad] */\n",
      "real4 corexyz[3];      /* 3D core position in CLF reference frame [cm] */\n",
      "\n",
      "corecounter, corexyz, energy, event_num, height, parttype, phi, tc, theta\n"
     ]
    }
   ],
   "source": [
    "rusdmc = dst.get_bank(\"rusdmc\")\n",
    "print(rusdmc)\n",
    "print(rusdmc.doc)\n",
    "print(\", \".join(rusdmc.keys))"
   ]
  },
  {
   "cell_type": "code",
   "execution_count": 5,
   "id": "f3fa3f19",
   "metadata": {},
   "outputs": [
    {
     "name": "stdout",
     "output_type": "stream",
     "text": [
      "[-2.4718472e+06  1.7198614e+05 -9.1862909e+02]\n",
      "0.5230934023857117\n"
     ]
    }
   ],
   "source": [
    "print(rusdmc['corexyz'])\n",
    "print(rusdmc['theta'])"
   ]
  },
  {
   "cell_type": "code",
   "execution_count": 7,
   "id": "3273277f",
   "metadata": {},
   "outputs": [
    {
     "name": "stdout",
     "output_type": "stream",
     "text": [
      "\n",
      "integer4 event_num;\t\t                        /* event number */\n",
      "integer4 event_code;                                  /* 1=data, 0=Monte Carlo */\n",
      "integer4 site;                                        /* BR=0,LR=1,SK=2,BRLR=3,BRSK=4,LRSK=5,BRLRSK=6 */\n",
      "integer4 run_id[3];                                   /* run number for [0]-BR,[1]-LR,[2]-SK, -1 if irrelevant */\n",
      "integer4 trig_id[3];\t\t                        /* event trigger id for each tower, -1 if irrelevant */\n",
      "integer4 errcode;                                     /* should be zero if there were no readout problems */\n",
      "integer4 yymmdd;\t\t                        /* event year, month, day */\n",
      "integer4 hhmmss;\t\t                        /* event hour minut second */\n",
      "integer4 usec;\t\t                        /* event micro second */\n",
      "integer4 monyymmdd;                                   /* yymmdd at the beginning of the mon. cycle used in this event */\n",
      "integer4 monhhmmss;                                   /* hhmmss at the beginning of the mon. cycle used in this event */\n",
      "integer4 nofwf;\t\t                        /* number of waveforms in the event */\n",
      "/* These arrays contain the waveform information */\n",
      "integer4 nretry[RUSDRAWMWF];                          /* number of retries to get the waveform */\n",
      "integer4 wf_id[RUSDRAWMWF];                           /* waveform id in the trigger */\n",
      "integer4 trig_code[RUSDRAWMWF];                       /* level 1 trigger code */\n",
      "integer4 xxyy[RUSDRAWMWF];\t                        /* detector that was hit (XXYY) */\n",
      "integer4 clkcnt[RUSDRAWMWF];\t                        /* Clock count at the waveform beginning */\n",
      "integer4 mclkcnt[RUSDRAWMWF];\t                        /* max clock count for detector, around 50E6 */\n",
      "/* 2nd index: [0] - lower, [1] - upper layers */\n",
      "integer4 fadcti[RUSDRAWMWF][2];\t                /* fadc trace integral, for upper and lower */\n",
      "integer4 fadcav[RUSDRAWMWF][2];                       /* FADC average */\n",
      "integer4 fadc[RUSDRAWMWF][2][rusdraw_nchan_sd];\t/* fadc trace for upper and lower */\n",
      "/* Useful calibration information  */\n",
      "integer4 pchmip[RUSDRAWMWF][2];     /* peak channel of 1MIP histograms */\n",
      "integer4 pchped[RUSDRAWMWF][2];     /* peak channel of pedestal histograms */\n",
      "integer4 lhpchmip[RUSDRAWMWF][2];   /* left half-peak channel for 1mip histogram */\n",
      "integer4 lhpchped[RUSDRAWMWF][2];   /* left half-peak channel of pedestal histogram */\n",
      "integer4 rhpchmip[RUSDRAWMWF][2];   /* right half-peak channel for 1mip histogram */\n",
      "integer4 rhpchped[RUSDRAWMWF][2];   /* right half-peak channel of pedestal histograms */\n",
      "/* Results from fitting 1MIP histograms */\n",
      "integer4 mftndof[RUSDRAWMWF][2]; /* number of degrees of freedom in 1MIP fit */\n",
      "real8 mip[RUSDRAWMWF][2];        /* 1MIP value (ped. subtracted) */\n",
      "real8 mftchi2[RUSDRAWMWF][2];    /* chi2 of the 1MIP fit */\n",
      "/*\n",
      "1MIP Fit function:\n",
      "[3]*(1+[2]*(x-[0]))*exp(-(x-[0])*(x-[0])/2/[1]/[1])/sqrt(2*PI)/[1]\n",
      "4 fit parameters:\n",
      "[0]=Gauss Mean\n",
      "[1]=Gauss Sigma\n",
      "[2]=Linear Coefficient\n",
      "[3]=Overall Scalling Factor\n",
      "*/\n",
      "real8 mftp[RUSDRAWMWF][2][4];    /* 1MIP fit parameters */\n",
      "real8 mftpe[RUSDRAWMWF][2][4];   /* Errors on 1MIP fit parameters */\n",
      "\n",
      "clkcnt, errcode, event_code, event_num, fadc, fadcav, fadcti, hhmmss, lhpchmip, lhpchped, mclkcnt, mftchi2, mftndof, mftp, mftpe, mip, monhhmmss, monyymmdd, nofwf, nretry, pchmip, pchped, rhpchmip, rhpchped, run_id, site, trig_code, trig_id, usec, wf_id, xxyy, yymmdd\n"
     ]
    }
   ],
   "source": [
    "rusdraw = dst.get_bank(\"rusdraw\")\n",
    "print(rusdraw.doc)\n",
    "print(\", \".join(rusdraw.keys))"
   ]
  },
  {
   "cell_type": "code",
   "execution_count": 8,
   "id": "59d6c17c",
   "metadata": {},
   "outputs": [
    {
     "name": "stdout",
     "output_type": "stream",
     "text": [
      "80511\n",
      "[[0 0]\n",
      " [0 0]\n",
      " [0 0]\n",
      " ...\n",
      " [0 0]\n",
      " [0 0]\n",
      " [0 0]]\n"
     ]
    }
   ],
   "source": [
    "print(rusdraw['yymmdd'])\n",
    "print(rusdraw['fadcav'])"
   ]
  },
  {
   "cell_type": "code",
   "execution_count": 9,
   "id": "a9245dcc",
   "metadata": {},
   "outputs": [],
   "source": [
    "# don't forget to close the file!\n",
    "dst.close()"
   ]
  },
  {
   "cell_type": "code",
   "execution_count": null,
   "id": "b0b91a04",
   "metadata": {},
   "outputs": [],
   "source": []
  }
 ],
 "metadata": {
  "kernelspec": {
   "display_name": "Python 3",
   "language": "python",
   "name": "python3"
  },
  "language_info": {
   "codemirror_mode": {
    "name": "ipython",
    "version": 3
   },
   "file_extension": ".py",
   "mimetype": "text/x-python",
   "name": "python",
   "nbconvert_exporter": "python",
   "pygments_lexer": "ipython3",
   "version": "3.9.10"
  }
 },
 "nbformat": 4,
 "nbformat_minor": 5
}
