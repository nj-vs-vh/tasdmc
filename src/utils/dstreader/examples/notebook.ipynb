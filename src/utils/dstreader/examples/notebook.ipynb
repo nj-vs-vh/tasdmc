{
 "cells": [
  {
   "cell_type": "code",
   "execution_count": 1,
   "id": "incredible-mapping",
   "metadata": {},
   "outputs": [],
   "source": [
    "from dstreader import DstFile"
   ]
  },
  {
   "cell_type": "code",
   "execution_count": 2,
   "id": "speaking-performer",
   "metadata": {},
   "outputs": [],
   "source": [
    "dst = DstFile(\"example.dst.gz\")\n",
    "dst.open()\n",
    "events_it = dst.events()"
   ]
  },
  {
   "cell_type": "code",
   "execution_count": 4,
   "id": "b716354b",
   "metadata": {},
   "outputs": [
    {
     "data": {
      "text/plain": [
       "['rusdmc', 'rusdraw', 'bsdinfo']"
      ]
     },
     "execution_count": 4,
     "metadata": {},
     "output_type": "execute_result"
    }
   ],
   "source": [
    "next(events_it)"
   ]
  },
  {
   "cell_type": "code",
   "execution_count": 14,
   "id": "ae7a4221",
   "metadata": {},
   "outputs": [
    {
     "name": "stdout",
     "output_type": "stream",
     "text": [
      "rusdmc bank, wrapping <dstreader.dstreader_core.rusdmc_dst_common; proxy of <Swig Object of type 'rusdmc_dst_common *' at 0x7f50dc5a65a0> >\n",
      "corecounter, corexyz, energy, event_num, height, parttype, phi, tc, theta\n"
     ]
    }
   ],
   "source": [
    "rusdmc = dst.get_bank(\"rusdmc\")\n",
    "print(rusdmc)\n",
    "print(\", \".join(rusdmc.keys()))"
   ]
  },
  {
   "cell_type": "code",
   "execution_count": 9,
   "id": "f3fa3f19",
   "metadata": {},
   "outputs": [
    {
     "name": "stdout",
     "output_type": "stream",
     "text": [
      "[-2.4718472e+06  1.7198614e+05 -9.1862909e+02]\n",
      "0.5230934023857117\n"
     ]
    }
   ],
   "source": [
    "print(rusdmc['corexyz'])\n",
    "print(rusdmc['theta'])"
   ]
  },
  {
   "cell_type": "code",
   "execution_count": 12,
   "id": "3273277f",
   "metadata": {},
   "outputs": [
    {
     "name": "stdout",
     "output_type": "stream",
     "text": [
      "clkcnt, errcode, event_code, event_num, fadc, fadcav, fadcti, hhmmss, lhpchmip, lhpchped, mclkcnt, mftchi2, mftndof, mftp, mftpe, mip, monhhmmss, monyymmdd, nofwf, nretry, pchmip, pchped, rhpchmip, rhpchped, run_id, site, trig_code, trig_id, usec, wf_id, xxyy, yymmdd\n"
     ]
    }
   ],
   "source": [
    "rusdraw = dst.get_bank(\"rusdraw\")\n",
    "print(\", \".join(rusdraw.keys()))"
   ]
  },
  {
   "cell_type": "code",
   "execution_count": 21,
   "id": "59d6c17c",
   "metadata": {},
   "outputs": [
    {
     "name": "stdout",
     "output_type": "stream",
     "text": [
      "80511\n",
      "[[0 0]\n",
      " [0 0]\n",
      " [0 0]\n",
      " ...\n",
      " [0 0]\n",
      " [0 0]\n",
      " [0 0]]\n"
     ]
    }
   ],
   "source": [
    "print(rusdraw['yymmdd'])\n",
    "print(rusdraw['fadcav'])"
   ]
  },
  {
   "cell_type": "code",
   "execution_count": 22,
   "id": "a9245dcc",
   "metadata": {},
   "outputs": [],
   "source": [
    "# don't forget to close the file!\n",
    "dst.close()"
   ]
  },
  {
   "cell_type": "code",
   "execution_count": null,
   "id": "b0b91a04",
   "metadata": {},
   "outputs": [],
   "source": []
  }
 ],
 "metadata": {
  "kernelspec": {
   "display_name": "Python 3",
   "language": "python",
   "name": "python3"
  },
  "language_info": {
   "codemirror_mode": {
    "name": "ipython",
    "version": 3
   },
   "file_extension": ".py",
   "mimetype": "text/x-python",
   "name": "python",
   "nbconvert_exporter": "python",
   "pygments_lexer": "ipython3",
   "version": "3.9.10"
  }
 },
 "nbformat": 4,
 "nbformat_minor": 5
}
